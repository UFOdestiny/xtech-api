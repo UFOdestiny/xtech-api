{
 "cells": [
  {
   "cell_type": "code",
   "execution_count": 3,
   "id": "51d44849",
   "metadata": {},
   "outputs": [
    {
     "name": "stdout",
     "output_type": "stream",
     "text": [
      "<class 'int'>\n",
      "<class 'type'>\n",
      "<class 'type'>\n"
     ]
    }
   ],
   "source": [
    "number=5\n",
    "print(number.__class__)\n",
    "print(number.__class__.__class__)\n",
    "print(number.__class__.__class__.__class__)"
   ]
  },
  {
   "cell_type": "code",
   "execution_count": 94,
   "id": "af5aeb1c",
   "metadata": {},
   "outputs": [],
   "source": [
    "class IsIntegar_metaclass(type):\n",
    "    def __new__(mcs, name, bases, attrs):\n",
    "        print(mcs)\n",
    "        print(name)\n",
    "        print(bases)\n",
    "        print(attrs)\n",
    "        return super().__new__(mcs, name, bases, attrs)\n",
    "\n",
    "    def __call__(cls, *args, **kwargs):\n",
    "        if type(args[0]) != int:\n",
    "            return False\n",
    "        return type.__call__(cls, *args, **kwargs)"
   ]
  },
  {
   "cell_type": "code",
   "execution_count": 95,
   "id": "d83f5ce6",
   "metadata": {},
   "outputs": [
    {
     "name": "stdout",
     "output_type": "stream",
     "text": [
      "<class '__main__.IsIntegar_metaclass'>\n",
      "IsIntegar\n",
      "()\n",
      "{'__module__': '__main__', '__qualname__': 'IsIntegar', '__init__': <function IsIntegar.__init__ at 0x0000023DD6925790>}\n"
     ]
    }
   ],
   "source": [
    "class IsIntegar(metaclass=IsIntegar_metaclass):\n",
    "    def __init__(self, number):\n",
    "        self.number = number"
   ]
  },
  {
   "cell_type": "code",
   "execution_count": 98,
   "id": "e8f82d61",
   "metadata": {},
   "outputs": [
    {
     "name": "stdout",
     "output_type": "stream",
     "text": [
      "<class '__main__.IsIntegar'>\n",
      "5\n",
      "<class 'bool'>\n",
      "False\n"
     ]
    }
   ],
   "source": [
    "num1 = IsIntegar(5)\n",
    "print(type(num1))\n",
    "print(num1.number)\n",
    "\n",
    "num2 = IsIntegar(5.1)\n",
    "print(type(num2))\n",
    "print(num2)"
   ]
  },
  {
   "cell_type": "code",
   "execution_count": 100,
   "id": "1694e032",
   "metadata": {},
   "outputs": [],
   "source": [
    "import threading"
   ]
  },
  {
   "cell_type": "code",
   "execution_count": 103,
   "id": "f363febc",
   "metadata": {},
   "outputs": [],
   "source": [
    "# 加锁，实现线程安全\n",
    "def synchronized(func):\n",
    "    \"\"\"\n",
    "    Decorator in order to achieve thread-safe singleton class.\n",
    "    \"\"\"\n",
    "    func.__lock__ = threading.Lock()\n",
    "\n",
    "    def lock_func(*args, **kwargs):\n",
    "        with func.__lock__:\n",
    "            return func(*args, **kwargs)\n",
    "\n",
    "    return lock_func\n",
    "\n",
    "\n",
    "class SingleInstanceMetaClass(type):\n",
    "\n",
    "    def __call__(cls, *args, **kwargs):\n",
    "        if cls.instance:\n",
    "            return cls.instance\n",
    "        cls.instance = cls.__new__(cls)\n",
    "        cls.instance.__init__(*args, **kwargs)\n",
    "        return cls.instance\n",
    "\n",
    "    @synchronized\n",
    "    def __new__(cls, *args, **kwargs):\n",
    "        return super().__new__(cls, *args, **kwargs)\n"
   ]
  },
  {
   "cell_type": "code",
   "execution_count": 104,
   "id": "7f101ac7",
   "metadata": {},
   "outputs": [],
   "source": [
    "class A(metaclass=SingleInstanceMetaClass):\n",
    "    pass"
   ]
  },
  {
   "cell_type": "code",
   "execution_count": null,
   "id": "9a49c93b",
   "metadata": {},
   "outputs": [],
   "source": []
  },
  {
   "cell_type": "code",
   "execution_count": 105,
   "id": "76945724",
   "metadata": {},
   "outputs": [
    {
     "name": "stdout",
     "output_type": "stream",
     "text": [
      "2464605115200\n",
      "2464605115200\n"
     ]
    }
   ],
   "source": [
    "print(id(A()))\n",
    "print(id(A()))"
   ]
  },
  {
   "cell_type": "code",
   "execution_count": null,
   "id": "4ec0e452",
   "metadata": {},
   "outputs": [],
   "source": []
  },
  {
   "cell_type": "code",
   "execution_count": null,
   "id": "3e61b1b6",
   "metadata": {},
   "outputs": [],
   "source": []
  },
  {
   "cell_type": "code",
   "execution_count": 106,
   "id": "1c4b024f",
   "metadata": {},
   "outputs": [],
   "source": [
    "import time"
   ]
  },
  {
   "cell_type": "code",
   "execution_count": 146,
   "id": "18688a19",
   "metadata": {},
   "outputs": [],
   "source": [
    "class Singleton(type):\n",
    "    def __call__(cls, *args, **kwargs):\n",
    "        if hasattr(cls, \"_instance\"):\n",
    "            return cls._instance\n",
    "        cls._instance = super().__call__(*args, **kwargs)\n",
    "        return cls._instance\n",
    "\n",
    "\n",
    "class A(metaclass=Singleton):\n",
    "    def __init__(self):\n",
    "        time.sleep(1)"
   ]
  },
  {
   "cell_type": "code",
   "execution_count": 147,
   "id": "321a6b00",
   "metadata": {},
   "outputs": [],
   "source": [
    "def task():\n",
    "    a = A()\n",
    "    print(id(a))"
   ]
  },
  {
   "cell_type": "code",
   "execution_count": 148,
   "id": "1b8ea945",
   "metadata": {},
   "outputs": [
    {
     "name": "stdout",
     "output_type": "stream",
     "text": [
      "0.002992868423461914\n",
      "24646064498722464605271232\n",
      "24646050195842464605272384\n",
      "2464604962672\n",
      "2464605506192\n",
      "2464604994480\n",
      "2464605507344\n",
      "2464604986192\n",
      "\n",
      "\n",
      "2464605503792\n"
     ]
    }
   ],
   "source": [
    "for i in range(10):\n",
    "        t = threading.Thread(target=task)\n",
    "        t.start()"
   ]
  },
  {
   "cell_type": "code",
   "execution_count": null,
   "id": "21bcc8ef",
   "metadata": {},
   "outputs": [],
   "source": []
  },
  {
   "cell_type": "code",
   "execution_count": 145,
   "id": "ca3f3108",
   "metadata": {},
   "outputs": [
    {
     "name": "stdout",
     "output_type": "stream",
     "text": [
      "2464605035248\n",
      "2464605035248\n",
      "2464605035248\n",
      "2464605035248\n",
      "2464605035248\n",
      "2464605035248\n",
      "2464605035248\n",
      "2464605035248\n",
      "2464605035248\n",
      "2464605035248\n",
      "1.0291383266448975\n"
     ]
    }
   ],
   "source": [
    "class Singleton(type):\n",
    "    _lock = threading.Lock()\n",
    "    def __call__(cls, *args, **kwargs):\n",
    "        with cls._lock:\n",
    "            if hasattr(cls, \"_instance\"):\n",
    "                return cls._instance\n",
    "            cls._instance = super().__call__(*args, **kwargs)\n",
    "        return cls._instance\n",
    "\n",
    "\n",
    "class A(metaclass=Singleton):\n",
    "    def __init__(self):\n",
    "        time.sleep(1)\n",
    "        \n",
    "def task():\n",
    "    a = A()\n",
    "    print(id(a))\n",
    "    \n",
    "for i in range(10):\n",
    "        t = threading.Thread(target=task)\n",
    "        t.start()"
   ]
  },
  {
   "cell_type": "code",
   "execution_count": null,
   "id": "e681068e",
   "metadata": {},
   "outputs": [],
   "source": [
    "class Singleton(type):\n",
    "    _lock = threading.Lock()\n",
    "    \n",
    "    def __call__(cls, *args, **kwargs):\n",
    "        time.sleep(1)\n",
    "        with cls._lock:\n",
    "            if not hasattr(cls, \"_instance\"):\n",
    "                cls._instance = super().__call__(*args, **kwargs)\n",
    "        return cls._instance\n",
    "\n",
    "\n",
    "class Person(metaclass=Singleton):\n",
    "    def __init__(self,name, age):\n",
    "        self.name = name\n",
    "        self.age = age\n",
    "\n",
    "\n",
    "def task(arg):\n",
    "    p = Person('张三',18)\n",
    "    print(p)\n",
    "\n",
    "\n",
    "if __name__ == '__main__':\n",
    "    for i in range(10):\n",
    "        t = threading.Thread(target=task, args=[i,])\n",
    "        t.start()"
   ]
  },
  {
   "cell_type": "code",
   "execution_count": null,
   "id": "9e13057d",
   "metadata": {},
   "outputs": [],
   "source": []
  },
  {
   "cell_type": "code",
   "execution_count": 3,
   "id": "c6b354ce",
   "metadata": {},
   "outputs": [
    {
     "name": "stdout",
     "output_type": "stream",
     "text": [
      "123\n"
     ]
    }
   ],
   "source": [
    "a=3\n",
    "if a==1 or 2:\n",
    "    print(123)"
   ]
  },
  {
   "cell_type": "code",
   "execution_count": null,
   "id": "28c4e86c",
   "metadata": {},
   "outputs": [],
   "source": []
  }
 ],
 "metadata": {
  "kernelspec": {
   "display_name": "Python 3 (ipykernel)",
   "language": "python",
   "name": "python3"
  },
  "language_info": {
   "codemirror_mode": {
    "name": "ipython",
    "version": 3
   },
   "file_extension": ".py",
   "mimetype": "text/x-python",
   "name": "python",
   "nbconvert_exporter": "python",
   "pygments_lexer": "ipython3",
   "version": "3.9.12"
  }
 },
 "nbformat": 4,
 "nbformat_minor": 5
}
